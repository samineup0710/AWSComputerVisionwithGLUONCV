{
 "cells": [
  {
   "cell_type": "markdown",
   "metadata": {
    "deletable": false,
    "editable": false,
    "nbgrader": {
     "cell_type": "markdown",
     "checksum": "5074b9d54a7c4c8dae2324b8cb78e503",
     "grade": false,
     "grade_id": "cell-fc0b22c123cbdd06",
     "locked": true,
     "schema_version": 3,
     "solution": false,
     "task": false
    }
   },
   "source": [
    "# Module 4 Assignment\n",
    "\n",
    "In this assignment, you'll use some of the key concepts from the module to create a neural network for image classification of items of clothing. Step one will be to normalize the input images, and you'll use NDArray operations to calculate the channel mean. You'll create a function to evaluate the performance of networks on the data, and construct a couple of different neural networks for image classification."
   ]
  },
  {
   "cell_type": "markdown",
   "metadata": {
    "deletable": false,
    "editable": false,
    "nbgrader": {
     "cell_type": "markdown",
     "checksum": "f2bccf9794a4c9efd92100928a3f022e",
     "grade": false,
     "grade_id": "cell-abb560c26ec49a12",
     "locked": true,
     "schema_version": 3,
     "solution": false,
     "task": false
    }
   },
   "source": [
    "## 0) Setup\n",
    "\n",
    "We start with a number of required imports and set the data paths."
   ]
  },
  {
   "cell_type": "code",
   "execution_count": 1,
   "metadata": {
    "deletable": false,
    "editable": false,
    "nbgrader": {
     "cell_type": "code",
     "checksum": "e397a0e3a9f2b4ad956a4b67efb70529",
     "grade": false,
     "grade_id": "cell-f6bddc494c867188",
     "locked": true,
     "schema_version": 3,
     "solution": false,
     "task": false
    }
   },
   "outputs": [],
   "source": [
    "from matplotlib import pyplot as plt\n",
    "import mxnet as mx\n",
    "from mxnet.gluon.data.vision import transforms\n",
    "from mxnet.gluon.data.vision import FashionMNIST\n",
    "import numpy as np\n",
    "import os\n",
    "from pathlib import Path\n",
    "from tqdm import tqdm"
   ]
  },
  {
   "cell_type": "code",
   "execution_count": 2,
   "metadata": {
    "deletable": false,
    "editable": false,
    "nbgrader": {
     "cell_type": "code",
     "checksum": "340f681667b511ce348ad946ab4617c9",
     "grade": false,
     "grade_id": "cell-5f7e8a74007e1017",
     "locked": true,
     "schema_version": 3,
     "solution": false,
     "task": false
    }
   },
   "outputs": [],
   "source": [
    "M4_DATA = Path(os.getenv('DATA_DIR', '../../data'), 'module_4')\n",
    "M4_IMAGES = Path(M4_DATA, 'images')\n",
    "M4_MODELS = Path(M4_DATA, 'models')"
   ]
  },
  {
   "cell_type": "markdown",
   "metadata": {
    "deletable": false,
    "editable": false,
    "nbgrader": {
     "cell_type": "markdown",
     "checksum": "bb710ee3e61851413d0efa8fa50e44b5",
     "grade": false,
     "grade_id": "cell-95f0a503b6239c30",
     "locked": true,
     "schema_version": 3,
     "solution": false,
     "task": false
    }
   },
   "source": [
    "## 1) Data (& NDArray Operations)\n",
    "\n",
    "We'll use the in-built dataset called `FashionMNIST` which is a variant of the commonly used `MNIST` dataset. It consists of 60,000 training images and 10,000 test images, and each image is a 28px by 28px greyscale image. We'll start by creating the `dataset` and visualize an example image."
   ]
  },
  {
   "cell_type": "code",
   "execution_count": 3,
   "metadata": {
    "deletable": false,
    "editable": false,
    "nbgrader": {
     "cell_type": "code",
     "checksum": "1ed040aeb4a6597a4b1b6732e5ea1758",
     "grade": false,
     "grade_id": "cell-ddb747acaf729e37",
     "locked": true,
     "schema_version": 3,
     "solution": false,
     "task": false
    }
   },
   "outputs": [],
   "source": [
    "test_dataset = FashionMNIST(train=False, root=M4_IMAGES).transform_first(transforms.ToTensor())"
   ]
  },
  {
   "cell_type": "code",
   "execution_count": 4,
   "metadata": {},
   "outputs": [
    {
     "data": {
      "text/plain": [
       "<matplotlib.image.AxesImage at 0x7f53602e7e10>"
      ]
     },
     "execution_count": 4,
     "metadata": {},
     "output_type": "execute_result"
    },
    {
     "data": {
      "image/png": "[encoded data removed]",
      "text/plain": [
       "<Figure size 432x288 with 1 Axes>"
      ]
     },
     "metadata": {
      "needs_background": "light"
     },
     "output_type": "display_data"
    }
   ],
   "source": [
    "sample_idx = 123\n",
    "sample_data, sample_label = test_dataset[sample_idx]\n",
    "plt.imshow(sample_data[0].asnumpy())  # 0 for first and only channel (since greyscale)."
   ]
  },
  {
   "cell_type": "markdown",
   "metadata": {},
   "source": [
    "sample"
   ]
  },
  {
   "cell_type": "code",
   "execution_count": 5,
   "metadata": {},
   "outputs": [
    {
     "data": {
      "text/plain": [
       "\n",
       "[[[0.         0.         0.         0.         0.         0.\n",
       "   0.         0.00392157 0.         0.         0.06666667 0.4862745\n",
       "   0.7019608  0.7921569  0.827451   0.7921569  0.7294118  0.48235294\n",
       "   0.02352941 0.         0.         0.         0.         0.\n",
       "   0.         0.         0.         0.        ]\n",
       "  [0.         0.         0.         0.         0.         0.\n",
       "   0.         0.02352941 0.         0.36862746 0.8980392  0.8666667\n",
       "   0.81960785 0.8117647  0.85490197 0.88235295 0.83137256 0.8666667\n",
       "   0.8745098  0.4        0.         0.01960784 0.         0.\n",
       "   0.         0.         0.         0.        ]\n",
       "  [0.         0.         0.         0.         0.         0.00784314\n",
       "   0.         0.         0.         0.75686276 0.84313726 0.827451\n",
       "   0.84705883 0.7882353  0.8039216  0.76862746 0.84313726 0.8156863\n",
       "   0.8862745  0.7372549  0.         0.00392157 0.         0.\n",
       "   0.         0.         0.         0.        ]\n",
       "  [0.         0.         0.         0.         0.         0.\n",
       "   0.00392157 0.         0.         0.6862745  0.84705883 0.8117647\n",
       "   0.92941177 0.972549   0.94509804 0.99215686 0.8745098  0.8352941\n",
       "   0.8509804  0.29411766 0.         0.         0.         0.\n",
       "   0.         0.         0.         0.        ]\n",
       "  [0.         0.         0.         0.         0.         0.00392157\n",
       "   0.         0.09411765 0.5764706  0.7294118  0.89411765 0.84313726\n",
       "   0.83137256 0.9019608  0.8745098  0.84313726 0.8117647  0.88235295\n",
       "   0.85490197 0.7411765  0.8352941  0.43137255 0.         0.\n",
       "   0.         0.         0.         0.        ]\n",
       "  [0.         0.         0.         0.         0.         0.\n",
       "   0.11764706 0.8666667  0.8117647  0.72156864 0.87058824 0.85490197\n",
       "   0.88235295 0.87058824 0.90588236 0.84313726 0.93333334 0.91764706\n",
       "   0.8235294  0.7254902  0.8862745  0.8901961  0.09411765 0.\n",
       "   0.         0.         0.         0.        ]\n",
       "  [0.         0.         0.         0.         0.         0.\n",
       "   0.43137255 0.88235295 0.69411767 0.74509805 0.87058824 0.8039216\n",
       "   0.84313726 0.85490197 0.8352941  0.8784314  0.84705883 0.84705883\n",
       "   0.80784315 0.6156863  0.83137256 0.84705883 0.52156866 0.\n",
       "   0.         0.         0.         0.        ]\n",
       "  [0.         0.         0.         0.         0.         0.\n",
       "   0.59607846 0.85490197 0.6745098  0.7019608  0.8745098  0.8117647\n",
       "   0.88235295 0.7411765  0.7529412  0.8509804  0.81960785 0.8392157\n",
       "   0.8509804  0.56078434 0.8392157  0.827451   0.8        0.\n",
       "   0.         0.         0.         0.        ]\n",
       "  [0.         0.         0.         0.         0.         0.\n",
       "   0.67058825 0.8666667  0.58431375 0.70980394 0.8627451  0.8039216\n",
       "   0.83137256 0.85490197 0.827451   0.8392157  0.81960785 0.83137256\n",
       "   0.8235294  0.6117647  0.8352941  0.8156863  0.7607843  0.\n",
       "   0.         0.         0.         0.        ]\n",
       "  [0.         0.         0.         0.         0.         0.\n",
       "   0.75686276 0.8784314  0.61960787 0.7019608  0.8392157  0.78431374\n",
       "   0.8        0.8352941  0.7921569  0.8235294  0.8039216  0.827451\n",
       "   0.8039216  0.5686275  0.8745098  0.84313726 0.8352941  0.2509804\n",
       "   0.         0.         0.         0.        ]\n",
       "  [0.         0.         0.         0.         0.         0.01568628\n",
       "   0.8039216  0.84313726 0.7294118  0.70980394 0.8392157  0.78431374\n",
       "   0.8156863  0.8392157  0.8        0.83137256 0.7921569  0.81960785\n",
       "   0.8235294  0.6862745  0.85882354 0.8352941  0.8745098  0.5137255\n",
       "   0.         0.         0.         0.        ]\n",
       "  [0.         0.         0.         0.         0.         0.19215687\n",
       "   0.84313726 0.8235294  0.9019608  0.77254903 0.80784315 0.78431374\n",
       "   0.8392157  0.8117647  0.7764706  0.8392157  0.79607844 0.81960785\n",
       "   0.8235294  0.81960785 0.79607844 0.8627451  0.9411765  0.34901962\n",
       "   0.         0.         0.         0.        ]\n",
       "  [0.         0.         0.         0.         0.         0.34117648\n",
       "   0.93333334 0.827451   0.89411765 0.77254903 0.80784315 0.79607844\n",
       "   0.8509804  0.7647059  0.7764706  0.8352941  0.8        0.81960785\n",
       "   0.8117647  0.8        0.80784315 0.8745098  0.9019608  0.5372549\n",
       "   0.         0.         0.         0.        ]\n",
       "  [0.         0.         0.         0.         0.         0.44705883\n",
       "   0.9019608  0.84313726 0.9019608  0.78431374 0.80784315 0.80784315\n",
       "   0.827451   0.84705883 0.8        0.827451   0.8039216  0.81960785\n",
       "   0.8352941  0.7882353  0.85882354 0.8980392  0.8784314  0.67058825\n",
       "   0.         0.         0.         0.        ]\n",
       "  [0.         0.         0.         0.         0.         0.5921569\n",
       "   0.8666667  0.84313726 0.9843137  0.8        0.78039217 0.8\n",
       "   0.8392157  0.81960785 0.7921569  0.83137256 0.8        0.8117647\n",
       "   0.8235294  0.79607844 0.827451   0.89411765 0.88235295 0.7019608\n",
       "   0.         0.         0.         0.        ]\n",
       "  [0.         0.         0.         0.         0.         0.6784314\n",
       "   0.83137256 0.83137256 0.9764706  0.8156863  0.8117647  0.79607844\n",
       "   0.84313726 0.827451   0.8        0.8235294  0.80784315 0.81960785\n",
       "   0.827451   0.8235294  0.87058824 0.9137255  0.8745098  0.75686276\n",
       "   0.         0.         0.         0.        ]\n",
       "  [0.         0.         0.         0.         0.         0.7058824\n",
       "   0.8235294  0.80784315 0.9647059  0.80784315 0.78431374 0.8\n",
       "   0.8627451  0.7921569  0.76862746 0.8352941  0.81960785 0.81960785\n",
       "   0.83137256 0.8156863  0.8509804  0.89411765 0.8627451  0.7529412\n",
       "   0.         0.         0.         0.        ]\n",
       "  [0.         0.         0.         0.         0.         0.7411765\n",
       "   0.8235294  0.81960785 0.9607843  0.7882353  0.7882353  0.80784315\n",
       "   0.85882354 0.78431374 0.7607843  0.81960785 0.827451   0.84313726\n",
       "   0.84313726 0.8235294  0.827451   0.92941177 0.8745098  0.7607843\n",
       "   0.         0.         0.         0.        ]\n",
       "  [0.         0.         0.         0.         0.         0.7607843\n",
       "   0.80784315 0.8392157  0.9529412  0.7764706  0.80784315 0.79607844\n",
       "   0.85882354 0.85490197 0.80784315 0.827451   0.84705883 0.827451\n",
       "   0.83137256 0.8392157  0.8156863  0.91764706 0.8784314  0.7764706\n",
       "   0.         0.         0.         0.        ]\n",
       "  [0.         0.         0.         0.         0.         0.7647059\n",
       "   0.79607844 0.84313726 0.9607843  0.7176471  0.8039216  0.8\n",
       "   0.9098039  0.8235294  0.79607844 0.81960785 0.8862745  0.8509804\n",
       "   0.8352941  0.8        0.7921569  0.9019608  0.8784314  0.77254903\n",
       "   0.         0.         0.         0.        ]\n",
       "  [0.         0.         0.         0.         0.         0.77254903\n",
       "   0.7882353  0.8627451  0.9411765  0.73333335 0.8392157  0.80784315\n",
       "   0.8901961  0.8509804  0.7882353  0.8235294  0.84705883 0.8352941\n",
       "   0.85490197 0.8235294  0.80784315 0.90588236 0.8784314  0.7764706\n",
       "   0.         0.         0.         0.        ]\n",
       "  [0.         0.         0.         0.         0.         0.7764706\n",
       "   0.77254903 0.8901961  0.93333334 0.7372549  0.80784315 0.74509805\n",
       "   0.92941177 0.85882354 0.77254903 0.83137256 0.8627451  0.8039216\n",
       "   0.8117647  0.8117647  0.7882353  0.9098039  0.8784314  0.77254903\n",
       "   0.         0.         0.         0.        ]\n",
       "  [0.         0.         0.         0.         0.         0.7647059\n",
       "   0.78431374 0.88235295 0.9098039  0.7372549  0.79607844 0.7529412\n",
       "   0.9529412  0.8156863  0.73333335 0.8509804  0.8862745  0.81960785\n",
       "   0.8117647  0.8117647  0.7764706  0.9098039  0.8980392  0.7764706\n",
       "   0.         0.         0.         0.        ]\n",
       "  [0.         0.         0.         0.         0.         0.70980394\n",
       "   0.78039217 0.8509804  0.87058824 0.73333335 0.8117647  0.7607843\n",
       "   0.91764706 0.8666667  0.8039216  0.827451   0.9254902  0.81960785\n",
       "   0.8156863  0.8117647  0.7647059  0.8745098  0.85882354 0.78039217\n",
       "   0.         0.         0.         0.        ]\n",
       "  [0.         0.         0.         0.         0.         0.7294118\n",
       "   0.85882354 0.91764706 0.93333334 0.7764706  0.80784315 0.7882353\n",
       "   0.89411765 0.8627451  0.8        0.8117647  0.89411765 0.8352941\n",
       "   0.80784315 0.8039216  0.7882353  0.95686275 0.9490196  0.84313726\n",
       "   0.         0.         0.         0.        ]\n",
       "  [0.         0.         0.         0.         0.         0.33333334\n",
       "   0.5686275  0.4862745  0.6039216  0.81960785 0.79607844 0.7921569\n",
       "   0.84705883 0.8627451  0.8235294  0.80784315 0.83137256 0.84705883\n",
       "   0.8117647  0.8235294  0.79607844 0.5882353  0.5686275  0.3372549\n",
       "   0.         0.         0.         0.        ]\n",
       "  [0.         0.         0.         0.         0.         0.\n",
       "   0.         0.         0.06666667 1.         0.8156863  0.8392157\n",
       "   0.84313726 0.84313726 0.7764706  0.85490197 0.85490197 0.85882354\n",
       "   0.85490197 0.85490197 0.99607843 0.         0.         0.\n",
       "   0.         0.         0.         0.        ]\n",
       "  [0.         0.         0.         0.         0.         0.00392157\n",
       "   0.01176471 0.         0.         0.6313726  0.7764706  0.79607844\n",
       "   0.8235294  0.827451   0.7490196  0.80784315 0.78039217 0.7764706\n",
       "   0.7411765  0.70980394 0.6        0.         0.         0.00784314\n",
       "   0.         0.         0.         0.        ]]]\n",
       "<NDArray 1x28x28 @cpu(0)>"
      ]
     },
     "execution_count": 5,
     "metadata": {},
     "output_type": "execute_result"
    }
   ],
   "source": [
    "sample_data"
   ]
  },
  {
   "cell_type": "markdown",
   "metadata": {
    "deletable": false,
    "editable": false,
    "nbgrader": {
     "cell_type": "markdown",
     "checksum": "ed2ca106a69f67ee2e77786e0a54f4c8",
     "grade": false,
     "grade_id": "cell-cdac79c9b0e7354e",
     "locked": true,
     "schema_version": 3,
     "solution": false,
     "task": false
    }
   },
   "source": [
    "One important step before passing images to the network is normalization: i.e. shifting and scaling the pixel values so that they are zero-centered on average and have unit variance.\n",
    "\n",
    "One method of normalization is pixelwise, where each **pixel** should have a unit normal distribution of values. Another is channelwise, where each **channel** should have a unit normal distribution of values. \n",
    "\n",
    "One of the first steps in the pixelwise approach is to calculate an 'average image' from the dataset. Using a sample of 1024 images, you should now implement a function to calculate the average intensity for every pixel. You'd typically want to calculate this from all samples of the dataset, but 1024 samples will be sufficient for now."
   ]
  },
  {
   "cell_type": "code",
   "execution_count": 6,
   "metadata": {},
   "outputs": [
    {
     "name": "stdout",
     "output_type": "stream",
     "text": [
      "(1024, 1, 28, 28)\n"
     ]
    }
   ],
   "source": [
    "test_dataloader = mx.gluon.data.DataLoader(test_dataset, shuffle=False, batch_size=1024)\n",
    "for data, label in test_dataloader:\n",
    "    break\n",
    "print(data.shape)"
   ]
  },
  {
   "cell_type": "code",
   "execution_count": 7,
   "metadata": {
    "deletable": false,
    "nbgrader": {
     "cell_type": "code",
     "checksum": "028925a530e2ed4d602226963e5e3409",
     "grade": false,
     "grade_id": "cell-c347c7c9342cbeb1",
     "locked": false,
     "schema_version": 3,
     "solution": true,
     "task": false
    }
   },
   "outputs": [],
   "source": [
    "def get_average_image_from_batch(batch):\n",
    "    \"\"\"\n",
    "    Given a batch of images, this function should calculate the 'average image'.\n",
    "    \n",
    "    :param batch: batch of images in NCHW layout.\n",
    "    :type batch: mx.nd.NDArray\n",
    "    \n",
    "    :return: average image in CHW layout.\n",
    "    :rtype: mx.nd.NDArray\n",
    "    \"\"\"\n",
    "    # YOUR CODE HERE\n",
    "    average_mean = mx.ndarray.mean(data=batch, axis=0)\n",
    "    return average_mean\n",
    "    "
   ]
  },
  {
   "cell_type": "code",
   "execution_count": 8,
   "metadata": {
    "deletable": false,
    "editable": false,
    "nbgrader": {
     "cell_type": "code",
     "checksum": "7afa5949415bf47373e5760b8df699c3",
     "grade": true,
     "grade_id": "cell-1b3d8700f95a0e26",
     "locked": true,
     "points": 1,
     "schema_version": 3,
     "solution": false,
     "task": false
    }
   },
   "outputs": [
    {
     "data": {
      "text/plain": [
       "<matplotlib.image.AxesImage at 0x7f536027bc18>"
      ]
     },
     "execution_count": 8,
     "metadata": {},
     "output_type": "execute_result"
    },
    {
     "data": {
      "image/png": "[encoded data removed]",
      "text/plain": [
       "<Figure size 432x288 with 1 Axes>"
      ]
     },
     "metadata": {
      "needs_background": "light"
     },
     "output_type": "display_data"
    }
   ],
   "source": [
    "average_image = get_average_image_from_batch(data)\n",
    "assert average_image.shape == (1, 28, 28)\n",
    "plt.imshow(average_image[0].asnumpy())  # 0 for first and only channel (since greyscale)."
   ]
  },
  {
   "cell_type": "markdown",
   "metadata": {
    "deletable": false,
    "editable": false,
    "nbgrader": {
     "cell_type": "markdown",
     "checksum": "1c60c3d88653d4d13ddfc97a891d2041",
     "grade": false,
     "grade_id": "cell-8289081a2395a032",
     "locked": true,
     "schema_version": 3,
     "solution": false,
     "task": false
    }
   },
   "source": [
    "Using the average image that was calculated above, you should now implement a function to perform the pixelwise normalization."
   ]
  },
  {
   "cell_type": "code",
   "execution_count": 9,
   "metadata": {
    "deletable": false,
    "nbgrader": {
     "cell_type": "code",
     "checksum": "237357a2b5ce96f61e37e68a000aae79",
     "grade": false,
     "grade_id": "cell-970eddb5f76be1f0",
     "locked": false,
     "schema_version": 3,
     "solution": true,
     "task": false
    }
   },
   "outputs": [],
   "source": [
    "def subtract_average_image(sample, average_image):\n",
    "    \"\"\"\n",
    "    Given a sample images, this function should return a pixelwise normalized image,\n",
    "    using a pre-calculated average image.\n",
    "    \n",
    "    :param sample: sample image in CHW layout.\n",
    "    :type sample: mx.nd.NDArray\n",
    "    :param average_image: average image of the dataset in CHW layout.\n",
    "    :type average_image: mx.nd.NDArray\n",
    "    \n",
    "    :return: pixelwise normalized image in CHW layout.\n",
    "    :rtype: mx.nd.NDArray\n",
    "    \"\"\"\n",
    "    # YOUR CODE HERE\n",
    "    nom_img = mx.ndarray.subtract(sample, average_image)\n",
    "    return nom_img"
   ]
  },
  {
   "cell_type": "code",
   "execution_count": 10,
   "metadata": {
    "deletable": false,
    "editable": false,
    "nbgrader": {
     "cell_type": "code",
     "checksum": "93a9e45c83be15ffd405137234e41c24",
     "grade": true,
     "grade_id": "cell-4f8cfd20e9027638",
     "locked": true,
     "points": 1,
     "schema_version": 3,
     "solution": false,
     "task": false
    }
   },
   "outputs": [
    {
     "data": {
      "text/plain": [
       "<matplotlib.image.AxesImage at 0x7f5360203630>"
      ]
     },
     "execution_count": 10,
     "metadata": {},
     "output_type": "execute_result"
    },
    {
     "data": {
      "image/png": "[encoded data removed]",
      "text/plain": [
       "<Figure size 432x288 with 1 Axes>"
      ]
     },
     "metadata": {
      "needs_background": "light"
     },
     "output_type": "display_data"
    }
   ],
   "source": [
    "normalized_sample_data = subtract_average_image(sample_data, average_image)\n",
    "assert normalized_sample_data.shape == (1, 28, 28)\n",
    "np.testing.assert_array_almost_equal(normalized_sample_data.asnumpy(), (sample_data - average_image).asnumpy())\n",
    "plt.imshow(normalized_sample_data[0].asnumpy())  # 0 for first and only channel (since greyscale)."
   ]
  },
  {
   "cell_type": "code",
   "execution_count": 11,
   "metadata": {},
   "outputs": [
    {
     "data": {
      "text/plain": [
       "\n",
       "[[[ 0.00000000e+00 -1.14889708e-05 -5.74448568e-05 -2.10631129e-04\n",
       "   -4.32751229e-04 -9.07628681e-04 -3.33180162e-03 -5.36534889e-03\n",
       "   -2.08409932e-02 -5.17961122e-02 -5.61389402e-02  3.10206026e-01\n",
       "    5.10780513e-01  6.01275265e-01  6.39273167e-01  5.93286633e-01\n",
       "    5.29335201e-01  3.31966162e-01 -7.28745461e-02 -4.18428332e-02\n",
       "   -1.67202819e-02 -9.07628704e-03 -5.33088250e-03 -4.30453429e-03\n",
       "   -1.67356012e-03 -4.28921572e-04 -2.06801473e-04 -3.10202216e-04]\n",
       "  [ 0.00000000e+00 -3.82965709e-06 -1.03400744e-04 -7.12316192e-04\n",
       "   -1.51271455e-03 -6.77083340e-03 -2.79947929e-02 -4.43014726e-02\n",
       "   -1.20458029e-01  1.66766241e-01  5.90387583e-01  4.75980401e-01\n",
       "    3.77481610e-01  3.75007659e-01  4.31196392e-01  4.34934139e-01\n",
       "    3.98261338e-01  5.10317087e-01  5.93060672e-01  2.19362751e-01\n",
       "   -1.01256132e-01 -3.11389398e-02 -2.25451905e-02 -1.36144301e-02\n",
       "   -1.01217832e-02 -3.29733477e-03 -1.01485907e-03 -2.10631129e-04]\n",
       "  [ 0.00000000e+00 -6.77849283e-04 -1.42080279e-03 -2.47395854e-03\n",
       "   -7.00827222e-03 -2.38472745e-02 -8.74387249e-02 -1.37729779e-01\n",
       "   -1.97591156e-01  4.77910548e-01  4.79384959e-01  4.29878980e-01\n",
       "    4.31816787e-01  3.70576739e-01  3.83080572e-01  3.47843915e-01\n",
       "    4.31135118e-01  4.17424947e-01  5.29526651e-01  4.76474434e-01\n",
       "   -1.75271913e-01 -1.22526050e-01 -6.99180439e-02 -2.80828737e-02\n",
       "   -1.65326297e-02 -1.01524210e-02 -3.16712633e-03 -3.06372560e-04]\n",
       "  [-3.06372560e-04 -1.51654414e-03 -1.34803925e-03 -4.63388488e-03\n",
       "   -1.91176478e-02 -7.42225796e-02 -1.37270227e-01 -1.93347886e-01\n",
       "   -2.53335625e-01  3.64177406e-01  4.60853249e-01  4.15812671e-01\n",
       "    5.24896622e-01  5.63840389e-01  5.35198331e-01  5.79714298e-01\n",
       "    4.58704799e-01  4.29097742e-01  4.67114747e-01 -3.00244987e-02\n",
       "   -2.43895531e-01 -1.88480392e-01 -1.28381595e-01 -6.23583049e-02\n",
       "   -2.65088864e-02 -1.59620102e-02 -6.63296599e-03 -1.30208337e-03]\n",
       "  [-3.82965693e-04 -1.69653806e-03 -2.34757969e-03 -1.10140936e-02\n",
       "   -3.98092829e-02 -1.11086860e-01 -1.91609219e-01 -1.36825979e-01\n",
       "    2.94699788e-01  3.82418066e-01  4.98801321e-01  4.41360295e-01\n",
       "    4.26895678e-01  4.95875448e-01  4.59030330e-01  4.20519292e-01\n",
       "    3.81073833e-01  4.56525743e-01  4.44037229e-01  3.87545973e-01\n",
       "    5.41766286e-01  1.86037064e-01 -1.81177244e-01 -9.88817438e-02\n",
       "   -4.82536778e-02 -2.59382669e-02 -1.42846201e-02 -2.50076596e-03]\n",
       "  [-5.66789240e-04 -1.75781257e-03 -6.38403837e-03 -2.12162994e-02\n",
       "   -6.64713532e-02 -1.53013945e-01 -1.07414223e-01  6.10979617e-01\n",
       "    5.10071993e-01  3.59719694e-01  4.73268986e-01  4.49073225e-01\n",
       "    4.75405931e-01  4.56380218e-01  4.75674033e-01  4.04584110e-01\n",
       "    4.89928007e-01  4.67850029e-01  3.90751392e-01  3.35428178e-01\n",
       "    5.56288302e-01  6.02006733e-01 -1.48173243e-01 -1.49965540e-01\n",
       "   -8.45779702e-02 -5.49211092e-02 -2.80101113e-02 -5.15854778e-03]\n",
       "  [-1.02251838e-03 -4.39644605e-03 -1.47748161e-02 -3.49226408e-02\n",
       "   -9.24402624e-02 -1.87568933e-01  1.84761792e-01  6.00589752e-01\n",
       "    3.78699452e-01  3.77742052e-01  4.69684422e-01  3.91096056e-01\n",
       "    4.29676026e-01  4.30043668e-01  3.88380826e-01  4.18313414e-01\n",
       "    3.80058974e-01  3.68750006e-01  3.49609375e-01  1.94971681e-01\n",
       "    4.65494782e-01  5.23123503e-01  2.36573249e-01 -1.94401041e-01\n",
       "   -1.20913759e-01 -8.60945210e-02 -4.46078442e-02 -9.02267173e-03]\n",
       "  [-2.14843755e-03 -6.66360324e-03 -1.71568636e-02 -4.52550575e-02\n",
       "   -1.13422953e-01 -2.06694245e-01  3.28458190e-01  5.52868426e-01\n",
       "    3.44799340e-01  3.35324764e-01  4.72311586e-01  3.88292730e-01\n",
       "    4.60439652e-01  3.05958956e-01  3.02485466e-01  3.73376220e-01\n",
       "    3.25677842e-01  3.39085460e-01  3.69512111e-01  1.18190885e-01\n",
       "    4.35386032e-01  4.60780501e-01  4.78170961e-01 -2.35945165e-01\n",
       "   -1.56931683e-01 -1.12886794e-01 -6.01026379e-02 -1.09949457e-02]\n",
       "  [-3.43520241e-03 -9.43627488e-03 -2.41230093e-02 -5.46760112e-02\n",
       "   -1.27366737e-01 -2.19270840e-01  3.93562347e-01  5.46587765e-01\n",
       "    2.45584428e-01  3.43068331e-01  4.53519464e-01  3.69933367e-01\n",
       "    3.99590224e-01  4.13154870e-01  3.77427995e-01  3.37201297e-01\n",
       "    2.87228107e-01  3.05426598e-01  3.27615649e-01  1.45339310e-01\n",
       "    4.02041197e-01  4.21920955e-01  4.10826445e-01 -2.73043036e-01\n",
       "   -1.85297951e-01 -1.36163458e-01 -7.28975162e-02 -1.52037386e-02]\n",
       "  [-4.99770232e-03 -1.39399515e-02 -2.91130524e-02 -6.18949160e-02\n",
       "   -1.38422951e-01 -2.32004449e-01  4.73134965e-01  5.51941633e-01\n",
       "    2.77002931e-01  3.35481793e-01  4.26784635e-01  3.48291963e-01\n",
       "    3.55028331e-01  3.69975477e-01  3.20067406e-01  2.78439045e-01\n",
       "    2.34704375e-01  2.63924658e-01  2.86040902e-01  8.72434378e-02\n",
       "    4.23004746e-01  4.25275743e-01  4.56958503e-01 -5.74103892e-02\n",
       "   -2.18585327e-01 -1.68669581e-01 -8.82391259e-02 -1.93321090e-02]\n",
       "  [-5.43428306e-03 -1.97074153e-02 -3.32452506e-02 -6.98912367e-02\n",
       "   -1.52029723e-01 -2.22698376e-01  5.17915130e-01  5.12097895e-01\n",
       "    3.75742972e-01  3.32207412e-01  4.06498939e-01  3.28611374e-01\n",
       "    3.39525878e-01  3.39185059e-01  2.97732830e-01  2.57923543e-01\n",
       "    2.03779876e-01  2.29273915e-01  2.75968909e-01  1.85386062e-01\n",
       "    3.89154404e-01  3.98468137e-01  4.76068467e-01  1.77734405e-01\n",
       "   -2.49731928e-01 -2.05867037e-01 -1.14958644e-01 -2.10401360e-02]\n",
       "  [-6.16191793e-03 -2.09329054e-02 -3.37737463e-02 -7.13465065e-02\n",
       "   -1.55457258e-01 -4.67294753e-02  5.58934569e-01  4.89510566e-01\n",
       "    5.40931344e-01  3.84704351e-01  3.41413915e-01  2.92352170e-01\n",
       "    3.31418514e-01  2.87944257e-01  2.40226746e-01  2.50854015e-01\n",
       "    2.01979935e-01  2.20182300e-01  2.46832848e-01  2.93275118e-01\n",
       "    2.88947642e-01  4.07218903e-01  5.23920059e-01 -7.65931606e-03\n",
       "   -2.70228267e-01 -2.34949455e-01 -1.40199915e-01 -2.24800855e-02]\n",
       "  [-7.80484080e-03 -2.63825059e-02 -3.49226408e-02 -7.32038915e-02\n",
       "   -1.59114584e-01  1.02784172e-01  6.52527571e-01  4.90471810e-01\n",
       "    5.19209564e-01  3.53477329e-01  3.07444870e-01  2.80579805e-01\n",
       "    3.06537211e-01  2.23908544e-01  2.34229505e-01  2.37668514e-01\n",
       "    2.00390637e-01  2.13231444e-01  2.27014422e-01  2.64522076e-01\n",
       "    2.88254440e-01  3.99938732e-01  4.70668644e-01  1.68547064e-01\n",
       "   -2.80461103e-01 -2.42574304e-01 -1.62434906e-01 -3.04917283e-02]\n",
       "  [-8.91161151e-03 -2.99211107e-02 -4.09083962e-02 -8.38465095e-02\n",
       "   -1.74211100e-01  1.93060666e-01  5.93953013e-01  4.81211692e-01\n",
       "    5.04350483e-01  3.32578897e-01  2.87549794e-01  2.57839322e-01\n",
       "    2.58923113e-01  2.83823550e-01  2.49643862e-01  2.26137400e-01\n",
       "    1.95963562e-01  2.04775572e-01  2.37002134e-01  2.56973803e-01\n",
       "    3.45136344e-01  4.11439180e-01  4.33735460e-01  2.85841763e-01\n",
       "   -2.87461698e-01 -2.46840537e-01 -1.84520528e-01 -4.17356007e-02]\n",
       "  [-1.29633890e-02 -4.60248180e-02 -6.25995696e-02 -1.10661767e-01\n",
       "   -2.06215531e-01  3.01290601e-01  5.25539994e-01  4.63204652e-01\n",
       "    5.77703714e-01  3.19178939e-01  2.36462176e-01  2.35569835e-01\n",
       "    2.52175272e-01  2.51478255e-01  2.47843921e-01  2.26187170e-01\n",
       "    1.82525277e-01  1.91992164e-01  2.27052689e-01  2.68068314e-01\n",
       "    3.26742470e-01  4.11217064e-01  4.38231468e-01  3.12392771e-01\n",
       "   -2.95722276e-01 -2.48165593e-01 -2.02994794e-01 -5.23858778e-02]\n",
       "  [-2.31464468e-02 -6.98835775e-02 -8.74310657e-02 -1.42895997e-01\n",
       "   -2.39541218e-01  3.65100354e-01  4.72123921e-01  4.35922176e-01\n",
       "    5.49525142e-01  3.05330873e-01  2.47568190e-01  2.08398461e-01\n",
       "    2.41724133e-01  2.54346669e-01  2.41272211e-01  2.13024676e-01\n",
       "    1.79419398e-01  1.97989404e-01  2.24777877e-01  2.88231492e-01\n",
       "    3.71342689e-01  4.22012866e-01  4.30208325e-01  3.64476115e-01\n",
       "   -3.07758898e-01 -2.52611816e-01 -2.10673258e-01 -5.88809773e-02]\n",
       "  [-3.46737131e-02 -9.77673158e-02 -1.12588085e-01 -1.71032473e-01\n",
       "   -2.70837158e-01  3.66187960e-01  4.35497105e-01  4.05001551e-01\n",
       "    5.29024959e-01  2.77117789e-01  1.94887400e-01  1.95063591e-01\n",
       "    2.52006710e-01  2.08888650e-01  2.00405955e-01  2.25532293e-01\n",
       "    1.88579977e-01  1.90291822e-01  2.23697901e-01  2.67658532e-01\n",
       "    3.59072447e-01  4.11952347e-01  4.19213384e-01  3.55265796e-01\n",
       "   -3.16375613e-01 -2.56391704e-01 -2.13028491e-01 -6.28408417e-02]\n",
       "  [-3.66536453e-02 -1.04848348e-01 -1.29273906e-01 -1.92122400e-01\n",
       "   -2.93535531e-01  3.85581344e-01  4.20143992e-01  4.09378827e-01\n",
       "    5.12469351e-01  2.34937966e-01  1.81690395e-01  1.83586121e-01\n",
       "    2.36741722e-01  1.97568178e-01  1.90265000e-01  2.11711109e-01\n",
       "    1.94178939e-01  2.19895065e-01  2.37710655e-01  2.86523461e-01\n",
       "    3.68416816e-01  4.68466610e-01  4.42367494e-01  3.76543373e-01\n",
       "   -3.02657783e-01 -2.38721669e-01 -1.99881285e-01 -5.66444546e-02]\n",
       "  [-3.25176157e-02 -1.04312196e-01 -1.30269617e-01 -1.87419578e-01\n",
       "   -2.88438261e-01  4.14096981e-01  4.12408084e-01  4.41379458e-01\n",
       "    4.97663915e-01  2.23345578e-01  2.10952818e-01  1.83926940e-01\n",
       "    2.49571085e-01  2.86557913e-01  2.48648107e-01  2.34777093e-01\n",
       "    2.27075696e-01  2.18175530e-01  2.54281580e-01  3.28603685e-01\n",
       "    3.84830743e-01  4.88798261e-01  4.68627453e-01  4.12320018e-01\n",
       "   -2.87105560e-01 -2.20450372e-01 -1.82165295e-01 -5.29641546e-02]\n",
       "  [-3.26937810e-02 -9.39797834e-02 -1.27699912e-01 -1.93068326e-01\n",
       "   -2.83505678e-01  4.21706498e-01  4.03986692e-01  4.64085490e-01\n",
       "    5.14426351e-01  1.82946563e-01  2.27745891e-01  2.09532022e-01\n",
       "    3.21273744e-01  2.73433685e-01  2.64380336e-01  2.47855365e-01\n",
       "    2.84263909e-01  2.69561887e-01  2.88288891e-01  3.10282618e-01\n",
       "    3.90291810e-01  4.91777718e-01  4.86029416e-01  4.23946857e-01\n",
       "   -2.75264263e-01 -2.11255372e-01 -1.63388491e-01 -4.37002145e-02]\n",
       "  [-3.12614888e-02 -8.89476091e-02 -1.18899360e-01 -1.83938429e-01\n",
       "   -2.70255059e-01  4.39583331e-01  4.09129918e-01  4.97560501e-01\n",
       "    4.96308208e-01  2.04829216e-01  2.75942087e-01  2.25015342e-01\n",
       "    3.07697594e-01  3.05357695e-01  2.66689658e-01  2.61002600e-01\n",
       "    2.66276062e-01  2.74276197e-01  3.28117311e-01  3.55193019e-01\n",
       "    4.32234228e-01  5.20645678e-01  5.06767035e-01  4.48426008e-01\n",
       "   -2.53082871e-01 -1.87431067e-01 -1.37561277e-01 -3.38273607e-02]\n",
       "  [-2.01899521e-02 -7.00635761e-02 -1.01344213e-01 -1.63223803e-01\n",
       "   -2.53745407e-01  4.61404711e-01  4.18929994e-01  5.50953627e-01\n",
       "    5.08402228e-01  2.31713414e-01  2.62657046e-01  1.82364464e-01\n",
       "    3.70025277e-01  3.36389422e-01  2.69883573e-01  3.00945938e-01\n",
       "    3.19209576e-01  2.78128862e-01  3.31529558e-01  3.86561751e-01\n",
       "    4.51183379e-01  5.64770997e-01  5.38415313e-01  4.75130230e-01\n",
       "   -2.22437963e-01 -1.58053771e-01 -1.04921110e-01 -2.52374392e-02]\n",
       "  [-1.62339155e-02 -5.32820188e-02 -8.32835510e-02 -1.41103715e-01\n",
       "   -2.32429534e-01  4.69623178e-01  4.61956203e-01  5.70178449e-01\n",
       "    5.08003950e-01  2.62967229e-01  2.83099711e-01  2.18658090e-01\n",
       "    4.24915731e-01  3.26137424e-01  2.70833343e-01  3.63897830e-01\n",
       "    3.84076297e-01  3.38495702e-01  3.79492193e-01  4.19688284e-01\n",
       "    4.66256887e-01  6.03029251e-01  5.86163461e-01  5.07831693e-01\n",
       "   -1.94469973e-01 -1.25938267e-01 -7.57046565e-02 -1.68466605e-02]\n",
       "  [-1.39399515e-02 -3.67915146e-02 -6.44799322e-02 -1.20435052e-01\n",
       "   -2.06131279e-01  4.38591450e-01  4.93918508e-01  5.71614623e-01\n",
       "    5.01175702e-01  3.01826745e-01  3.40759039e-01  2.59623945e-01\n",
       "    4.22483921e-01  4.07892913e-01  3.75585943e-01  3.84895831e-01\n",
       "    4.62768078e-01  3.83337170e-01  4.21744794e-01  4.54113066e-01\n",
       "    4.92807925e-01  6.08723998e-01  5.84390283e-01  5.45699298e-01\n",
       "   -1.62714466e-01 -9.92225781e-02 -5.28148003e-02 -1.04741119e-02]\n",
       "  [-8.67417268e-03 -2.43527889e-02 -4.68903184e-02 -1.01577818e-01\n",
       "   -1.80951297e-01  4.88162547e-01  6.06047034e-01  6.76799953e-01\n",
       "    5.99678278e-01  3.86243880e-01  3.79936427e-01  3.28703284e-01\n",
       "    4.44864422e-01  4.45978850e-01  4.15016085e-01  4.08517152e-01\n",
       "    4.70339298e-01  4.32540596e-01  4.42654729e-01  4.81686592e-01\n",
       "    5.46652913e-01  7.25559115e-01  7.10133255e-01  6.36948526e-01\n",
       "   -1.38618261e-01 -7.60493279e-02 -3.47158387e-02 -6.34574145e-03]\n",
       "  [-2.58118892e-03 -1.19064040e-02 -3.02542895e-02 -7.90479481e-02\n",
       "   -1.57463998e-01  1.15536928e-01  3.48789871e-01  2.80790448e-01\n",
       "    3.24563444e-01  4.86017942e-01  4.24544275e-01  3.89931828e-01\n",
       "    4.50873166e-01  4.98353243e-01  4.90303308e-01  4.62446392e-01\n",
       "    4.57651645e-01  4.90169287e-01  4.91540283e-01  5.42888343e-01\n",
       "    5.89709699e-01  3.90598208e-01  3.51244658e-01  1.51393995e-01\n",
       "   -1.13216147e-01 -5.44538908e-02 -1.94201898e-02 -3.10968142e-03]\n",
       "  [-1.50122552e-03 -3.62668512e-03 -1.52228866e-02 -5.68742342e-02\n",
       "   -1.30445778e-01 -1.88518688e-01 -1.91210940e-01 -1.76876530e-01\n",
       "   -1.65962011e-01  7.07119346e-01  4.76673573e-01  4.65973496e-01\n",
       "    4.71373320e-01  5.02156138e-01  4.64958638e-01  5.26382506e-01\n",
       "    4.98755366e-01  5.20178437e-01  5.63453555e-01  6.17191315e-01\n",
       "    8.24463844e-01 -1.69286162e-01 -1.93792135e-01 -1.59087777e-01\n",
       "   -8.94607827e-02 -3.65425870e-02 -8.67417268e-03 -2.09865207e-03]\n",
       "  [-2.37438740e-04 -8.65502458e-04 -3.52711393e-03 -1.91636030e-02\n",
       "   -5.25505543e-02 -7.83739313e-02 -6.75781295e-02 -6.34306073e-02\n",
       "   -8.53707120e-02  5.16042471e-01  6.20350838e-01  6.04503691e-01\n",
       "    6.28967524e-01  6.55212164e-01  5.87477028e-01  6.39020383e-01\n",
       "    5.96197128e-01  6.08547807e-01  6.15364611e-01  6.21097565e-01\n",
       "    5.34566522e-01 -6.93091303e-02 -9.32636335e-02 -6.08570799e-02\n",
       "   -3.18397693e-02 -1.16996020e-02 -3.24754906e-03 -7.73590698e-04]]]\n",
       "<NDArray 1x28x28 @cpu(0)>"
      ]
     },
     "execution_count": 11,
     "metadata": {},
     "output_type": "execute_result"
    }
   ],
   "source": [
    "normalized_sample_data"
   ]
  },
  {
   "cell_type": "markdown",
   "metadata": {},
   "source": [
    "You've now created a transform for pixelwise normalization! As mentioned previously, another common method for normalization is channelwise normalization. Complete the following function to calculate the channel averages from a batch of multi-channel inputs.\n",
    "\n",
    "Note: although the image from our dataset only have one channel, your function should support cases where there are more than one channel (e.g. RGB images).\n",
    "\n",
    "**Hint**: Check out the `axis` (or `dim`) arguments on MXNet NDArray functions."
   ]
  },
  {
   "cell_type": "code",
   "execution_count": 12,
   "metadata": {
    "deletable": false,
    "nbgrader": {
     "cell_type": "code",
     "checksum": "a20aa5394fbb2a4d50af68667ed995c6",
     "grade": false,
     "grade_id": "cell-d2bd82c63c0c28c9",
     "locked": false,
     "schema_version": 3,
     "solution": true,
     "task": false
    }
   },
   "outputs": [],
   "source": [
    "def get_channel_average_from_batch(batch):\n",
    "    \"\"\"\n",
    "    Given a batch of images, this function should return the\n",
    "    average value for each channel across the images of the batch.\n",
    "    \n",
    "    :param batch: batch of images in NCHW layout.\n",
    "    :type batch: mx.nd.NDArray\n",
    "    \n",
    "    :return: channel averages in C layout.\n",
    "    :rtype: mx.nd.NDArray\n",
    "    \"\"\"\n",
    "    # YOUR CODE HERE\n",
    "    channel_avg_mean = mx.ndarray.mean(data=batch, axis=1, exclude= True)\n",
    "    return channel_avg_mean\n",
    "    "
   ]
  },
  {
   "cell_type": "code",
   "execution_count": 13,
   "metadata": {
    "deletable": false,
    "editable": false,
    "nbgrader": {
     "cell_type": "code",
     "checksum": "61ce9104b23fdb0b51a498914c9375b3",
     "grade": true,
     "grade_id": "cell-1132428ff435fdff",
     "locked": true,
     "points": 1,
     "schema_version": 3,
     "solution": false,
     "task": false
    }
   },
   "outputs": [
    {
     "name": "stdout",
     "output_type": "stream",
     "text": [
      "0.28757906\n"
     ]
    }
   ],
   "source": [
    "channel_average = get_channel_average_from_batch(data).asscalar()\n",
    "print(channel_average)\n",
    "assert isinstance(channel_average, np.float32)\n",
    "np.testing.assert_almost_equal(channel_average, 0.28757906, decimal=5)\n",
    "\n",
    "test_averages = mx.nd.array([1,2,3,4])\n",
    "test_input = mx.nd.reshape(test_averages, shape=(1,4,1,1)) * mx.nd.ones(shape=(10,4,25,25))\n",
    "test_channel_average = get_channel_average_from_batch(test_input)\n",
    "np.testing.assert_array_almost_equal(test_averages.asnumpy(), test_channel_average.asnumpy())"
   ]
  },
  {
   "cell_type": "markdown",
   "metadata": {
    "deletable": false,
    "editable": false,
    "nbgrader": {
     "cell_type": "markdown",
     "checksum": "ebf52b1649339c3bc81609fd7d8eb8a6",
     "grade": false,
     "grade_id": "cell-2fea1fe63abd02d1",
     "locked": true,
     "schema_version": 3,
     "solution": false,
     "task": false
    }
   },
   "source": [
    "Using this channel average, we can use the `Normalize` transform to apply this to all samples in our dataset as they are loaded."
   ]
  },
  {
   "cell_type": "code",
   "execution_count": 14,
   "metadata": {
    "deletable": false,
    "editable": false,
    "nbgrader": {
     "cell_type": "code",
     "checksum": "7c8c7678fffe3316b1d26df20948d9d3",
     "grade": false,
     "grade_id": "cell-1406cf76c0bf2d9c",
     "locked": true,
     "schema_version": 3,
     "solution": false,
     "task": false
    }
   },
   "outputs": [],
   "source": [
    "channel_std = 0.31\n",
    "transform = transforms.Compose([\n",
    "    transforms.ToTensor(),\n",
    "    transforms.Normalize(channel_average, channel_std)\n",
    "])"
   ]
  },
  {
   "cell_type": "code",
   "execution_count": 15,
   "metadata": {
    "deletable": false,
    "editable": false,
    "nbgrader": {
     "cell_type": "code",
     "checksum": "997486e117bb21d91c6c6d2e1793d5e1",
     "grade": false,
     "grade_id": "cell-09b598f5df48310e",
     "locked": true,
     "schema_version": 3,
     "solution": false,
     "task": false
    }
   },
   "outputs": [],
   "source": [
    "train_dataset = FashionMNIST(train=True, root=M4_IMAGES).transform_first(transform)\n",
    "test_dataset = FashionMNIST(train=False, root=M4_IMAGES).transform_first(transform)\n",
    "train_dataloader = mx.gluon.data.DataLoader(train_dataset, shuffle=True, batch_size=128)\n",
    "test_dataloader = mx.gluon.data.DataLoader(train_dataset, shuffle=False, batch_size=128)"
   ]
  },
  {
   "cell_type": "markdown",
   "metadata": {},
   "source": [
    "## 2) Metrics\n",
    "\n",
    "In this section, you'll implement a function to test the prediction quality of networks. Using `Accuracy` as the evaluation metric, complete the following function that takes a network and a dataloader (with test data) and returns an MXNet Metric that has been updated with labels and predictions. We'll use this function in the next section, when we train classification networks.\n",
    "\n",
    "**Hint**: You'll find classes in the `mxnet.metric` subpackage useful for this task."
   ]
  },
  {
   "cell_type": "code",
   "execution_count": 16,
   "metadata": {
    "deletable": false,
    "nbgrader": {
     "cell_type": "code",
     "checksum": "648cf62a617935ea6d929c14af92eb8b",
     "grade": false,
     "grade_id": "cell-5fab64bc4b4aa8dc",
     "locked": false,
     "schema_version": 3,
     "solution": true,
     "task": false
    }
   },
   "outputs": [],
   "source": [
    "from mxnet import metric\n",
    "def calculate_accuracy(network, dataloader):\n",
    "    \"\"\"\n",
    "    Calculates accuracy of the network on the data given by the dataloader.\n",
    "    \n",
    "    :param network: network to be tested\n",
    "    :type network: mx.gluon.Block\n",
    "    :param dataloader: dataloader for test data\n",
    "    :type dataloader: mx.gluon.data.DataLoader\n",
    "    \n",
    "    :return: updated metric\n",
    "    :rtype: mx.metric.EvalMetric\n",
    "    \"\"\"\n",
    "    accuracy = mx.metric.Accuracy()\n",
    "    for data, labels in tqdm(dataloader):\n",
    "        preds = network(data)\n",
    "        accuracy.update(labels = labels,preds = preds)\n",
    "    return accuracy"
   ]
  },
  {
   "cell_type": "code",
   "execution_count": 17,
   "metadata": {
    "deletable": false,
    "editable": false,
    "nbgrader": {
     "cell_type": "code",
     "checksum": "2a5f1bac4bcf9a3e81d52ea269a61070",
     "grade": true,
     "grade_id": "cell-56296ecc0573751e",
     "locked": true,
     "points": 2,
     "schema_version": 3,
     "solution": false,
     "task": false
    }
   },
   "outputs": [
    {
     "name": "stderr",
     "output_type": "stream",
     "text": [
      "100%|██████████| 469/469 [00:43<00:00, 11.99it/s]"
     ]
    },
    {
     "name": "stdout",
     "output_type": "stream",
     "text": [
      "('accuracy', 0.08005)\n"
     ]
    },
    {
     "name": "stderr",
     "output_type": "stream",
     "text": [
      "\n"
     ]
    }
   ],
   "source": [
    "test_network = mx.gluon.nn.Dense(units=10)\n",
    "test_network.initialize()\n",
    "metric = calculate_accuracy(test_network, test_dataloader)\n",
    "print(metric.get())\n",
    "isinstance(metric, mx.metric.EvalMetric)\n",
    "assert metric.name == 'accuracy'\n",
    "assert metric.num_inst == 60000"
   ]
  },
  {
   "cell_type": "markdown",
   "metadata": {
    "deletable": false,
    "editable": false,
    "nbgrader": {
     "cell_type": "markdown",
     "checksum": "cb82044f0fc5c506b7e0ded91ed9b428",
     "grade": false,
     "grade_id": "cell-3f04789a1e05233e",
     "locked": true,
     "schema_version": 3,
     "solution": false,
     "task": false
    }
   },
   "source": [
    "## 3) Network"
   ]
  },
  {
   "cell_type": "markdown",
   "metadata": {},
   "source": [
    "In the section, you'll implement a couple of different image classification networks and train then on the `FashionMNIST` dataset. A `train` function is already provided in this assignment, because the focus will be on network construction."
   ]
  },
  {
   "cell_type": "code",
   "execution_count": 18,
   "metadata": {
    "deletable": false,
    "editable": false,
    "nbgrader": {
     "cell_type": "code",
     "checksum": "77f5bee4daf2e646e8b00a4cb792c9ab",
     "grade": false,
     "grade_id": "cell-027a252196f10f5c",
     "locked": true,
     "schema_version": 3,
     "solution": false,
     "task": false
    }
   },
   "outputs": [],
   "source": [
    "def train(network, dataloader):\n",
    "    softmax_cross_entropy = mx.gluon.loss.SoftmaxCrossEntropyLoss()\n",
    "    trainer = mx.gluon.Trainer(network.collect_params(), 'sgd', {'learning_rate': 0.1})\n",
    "    for data, label in tqdm(dataloader):\n",
    "        with mx.autograd.record():\n",
    "            output = network(data)\n",
    "            loss = softmax_cross_entropy(output, label)\n",
    "        loss.backward()\n",
    "        trainer.step(data.shape[0])"
   ]
  },
  {
   "cell_type": "markdown",
   "metadata": {
    "deletable": false,
    "editable": false,
    "nbgrader": {
     "cell_type": "markdown",
     "checksum": "3d078ccad213eb7f0540c0e0a7f4fd6f",
     "grade": false,
     "grade_id": "cell-8835b94cce73c05b",
     "locked": true,
     "schema_version": 3,
     "solution": false,
     "task": false
    }
   },
   "source": [
    "Your first model should be a sequential network, with 3 layers. You first layer should have 16 hidden units, the second should have 8 hidden units and the last layer should the correct number of output units for the classification task at hand. You should add ReLU activations on all hidden layers, but not the output layer. You should define `network` in the cell below.\n",
    "\n",
    "**Hint**: You'll find classes in the `mxnet.gluon.nn` subpackage useful for this task."
   ]
  },
  {
   "cell_type": "code",
   "execution_count": 19,
   "metadata": {
    "deletable": false,
    "nbgrader": {
     "cell_type": "code",
     "checksum": "d35d987cac115ee0c6fcde1ccf9395ab",
     "grade": false,
     "grade_id": "cell-60d2aed0c10748dc",
     "locked": false,
     "schema_version": 3,
     "solution": true,
     "task": false
    }
   },
   "outputs": [],
   "source": [
    "network = mx.gluon.nn.Sequential()\n",
    "\n",
    "with network.name_scope():\n",
    "    network.add(mx.gluon.nn.Dense(16, activation=\"relu\")) # 1st layer (16 nodes)\n",
    "    network.add(mx.gluon.nn.Dense(8, activation=\"relu\")) # 2nd hidden layer\n",
    "    network.add(mx.gluon.nn.Dense(10))"
   ]
  },
  {
   "cell_type": "code",
   "execution_count": 20,
   "metadata": {
    "deletable": false,
    "editable": false,
    "nbgrader": {
     "cell_type": "code",
     "checksum": "bac44090ed660601c9bb11488e4457e8",
     "grade": true,
     "grade_id": "cell-fab27ff9cbdb32f3",
     "locked": true,
     "points": 2,
     "schema_version": 3,
     "solution": false,
     "task": false
    }
   },
   "outputs": [],
   "source": [
    "assert isinstance(network, mx.gluon.nn.Sequential)\n",
    "assert len(network) == 3\n",
    "assert isinstance(network[0], mx.gluon.nn.Dense)\n",
    "assert network[0].act.name.endswith('relu')\n",
    "assert network[0].weight.shape[0] == 16\n",
    "assert isinstance(network[1], mx.gluon.nn.Dense)\n",
    "assert network[1].act.name.endswith('relu')\n",
    "assert network[1].weight.shape[0] == 8\n",
    "assert isinstance(network[2], mx.gluon.nn.Dense)\n",
    "assert network[2].act is None\n",
    "assert network[2].weight.shape[0] == 10"
   ]
  },
  {
   "cell_type": "markdown",
   "metadata": {
    "deletable": false,
    "editable": false,
    "nbgrader": {
     "cell_type": "markdown",
     "checksum": "a12fc8925d662b2379c9da051c6ad04d",
     "grade": false,
     "grade_id": "cell-0c105c466260d8df",
     "locked": true,
     "schema_version": 3,
     "solution": false,
     "task": false
    }
   },
   "source": [
    "With your network now defined, you should initialize its parameters using the Xavier method in the cell below.\n",
    "\n",
    "**Hint**: You'll find classes in the `mxnet.init` subpackage useful for this task."
   ]
  },
  {
   "cell_type": "code",
   "execution_count": 21,
   "metadata": {
    "deletable": false,
    "nbgrader": {
     "cell_type": "code",
     "checksum": "5034e223765daeb8ff11357a8385621d",
     "grade": false,
     "grade_id": "cell-fa9e3830a921ccc1",
     "locked": false,
     "schema_version": 3,
     "solution": true,
     "task": false
    }
   },
   "outputs": [],
   "source": [
    "# YOUR CODE HERE\n",
    "initializer = mx.init.Xavier()\n",
    "network.initialize(initializer)"
   ]
  },
  {
   "cell_type": "code",
   "execution_count": 22,
   "metadata": {
    "deletable": false,
    "editable": false,
    "nbgrader": {
     "cell_type": "code",
     "checksum": "082079014c9879392a59ea4f9ba69b89",
     "grade": true,
     "grade_id": "cell-aab6f8ac1595ddf3",
     "locked": true,
     "points": 1,
     "schema_version": 3,
     "solution": false,
     "task": false
    }
   },
   "outputs": [],
   "source": [
    "assert isinstance(initializer, mx.initializer.Xavier)"
   ]
  },
  {
   "cell_type": "markdown",
   "metadata": {
    "deletable": false,
    "editable": false,
    "nbgrader": {
     "cell_type": "markdown",
     "checksum": "7b66a83fe4f502980f1aa332babea54a",
     "grade": false,
     "grade_id": "cell-71470ca5057ba4e7",
     "locked": true,
     "schema_version": 3,
     "solution": false,
     "task": false
    }
   },
   "source": [
    "We'll now check the network summary and see that the network has 12786 trainable parameters."
   ]
  },
  {
   "cell_type": "code",
   "execution_count": 23,
   "metadata": {
    "deletable": false,
    "editable": false,
    "nbgrader": {
     "cell_type": "code",
     "checksum": "59aea017252d590b7e5f1d59e4997cf6",
     "grade": false,
     "grade_id": "cell-a13e4f389f395b25",
     "locked": true,
     "schema_version": 3,
     "solution": false,
     "task": false
    }
   },
   "outputs": [
    {
     "name": "stdout",
     "output_type": "stream",
     "text": [
      "--------------------------------------------------------------------------------\n",
      "        Layer (type)                                Output Shape         Param #\n",
      "================================================================================\n",
      "               Input                           (1024, 1, 28, 28)               0\n",
      "        Activation-1        <Symbol sequential0_dense0_relu_fwd>               0\n",
      "        Activation-2                                  (1024, 16)               0\n",
      "             Dense-3                                  (1024, 16)           12560\n",
      "        Activation-4        <Symbol sequential0_dense1_relu_fwd>               0\n",
      "        Activation-5                                   (1024, 8)               0\n",
      "             Dense-6                                   (1024, 8)             136\n",
      "             Dense-7                                  (1024, 10)              90\n",
      "================================================================================\n",
      "Parameters in forward computation graph, duplicate included\n",
      "   Total params: 12786\n",
      "   Trainable params: 12786\n",
      "   Non-trainable params: 0\n",
      "Shared params in forward computation graph: 0\n",
      "Unique parameters in model: 12786\n",
      "--------------------------------------------------------------------------------\n"
     ]
    }
   ],
   "source": [
    "network.summary(data)"
   ]
  },
  {
   "cell_type": "markdown",
   "metadata": {
    "deletable": false,
    "editable": false,
    "nbgrader": {
     "cell_type": "markdown",
     "checksum": "d5770042162ac6a34dfd0eb57cef562a",
     "grade": false,
     "grade_id": "cell-f23f24b41797c698",
     "locked": true,
     "schema_version": 3,
     "solution": false,
     "task": false
    }
   },
   "source": [
    "And use the `calculate_accuracy` function defined in the previous section to evaluate the performance of this architecture."
   ]
  },
  {
   "cell_type": "code",
   "execution_count": 24,
   "metadata": {
    "deletable": false,
    "editable": false,
    "nbgrader": {
     "cell_type": "code",
     "checksum": "958cb52f6fea4c610ad6fb12b69c9cd6",
     "grade": false,
     "grade_id": "cell-15085d2bbec07611",
     "locked": true,
     "schema_version": 3,
     "solution": false,
     "task": false
    }
   },
   "outputs": [
    {
     "name": "stderr",
     "output_type": "stream",
     "text": [
      "100%|██████████| 469/469 [00:46<00:00, 10.06it/s]\n",
      "100%|██████████| 469/469 [00:37<00:00, 12.95it/s]"
     ]
    },
    {
     "name": "stdout",
     "output_type": "stream",
     "text": [
      "('accuracy', 0.8145333333333333)\n"
     ]
    },
    {
     "name": "stderr",
     "output_type": "stream",
     "text": [
      "\n"
     ]
    }
   ],
   "source": [
    "train(network, train_dataloader)\n",
    "metric = calculate_accuracy(network, test_dataloader)\n",
    "print(metric.get())"
   ]
  },
  {
   "cell_type": "markdown",
   "metadata": {
    "deletable": false,
    "editable": false,
    "nbgrader": {
     "cell_type": "markdown",
     "checksum": "aae608960225ca66817116e7e18a9247",
     "grade": false,
     "grade_id": "cell-b4bb794993da124b",
     "locked": true,
     "schema_version": 3,
     "solution": false,
     "task": false
    }
   },
   "source": [
    "You're final objective in this assignment is to try a different architecture that uses convolutional and max pooling layers. You should define another sequential network, but this time it should have 5 layers in total:\n",
    "\n",
    "1. Convolutional Layer (32 channels, 3x3 kernel and ReLU activation)\n",
    "2. Max Pooling Layer (2x2 kernel and 2x2 stride)\n",
    "3. Convolutional Layer (16 channels, 3x3 kernel and ReLU activation)\n",
    "4. Max Pooling Layer (2x2 kernel and 2x2 stride)\n",
    "5. Dense Layer (10 output units)"
   ]
  },
  {
   "cell_type": "code",
   "execution_count": 33,
   "metadata": {
    "deletable": false,
    "nbgrader": {
     "cell_type": "code",
     "checksum": "a2da3d4d690016aa9b1fddafe7c9f4c5",
     "grade": false,
     "grade_id": "cell-27362e76af20b586",
     "locked": false,
     "schema_version": 3,
     "solution": true,
     "task": false
    }
   },
   "outputs": [],
   "source": [
    "# YOUR CODE HERE\n",
    "network = mx.gluon.nn.Sequential()\n",
    "\n",
    "with network.name_scope():\n",
    "    network.add(mx.gluon.nn.Conv2D(32,(3,3), activation=\"relu\"))\n",
    "    network.add(mx.gluon.nn.MaxPool2D(pool_size=(2, 2), strides=(2, 2)))\n",
    "    network.add(mx.gluon.nn.Conv2D(16,(3,3), activation=\"relu\"))\n",
    "    network.add(mx.gluon.nn.MaxPool2D(pool_size = (2,2), strides = (2,2)))\n",
    "    network.add(mx.gluon.nn.Dense(10))"
   ]
  },
  {
   "cell_type": "code",
   "execution_count": 34,
   "metadata": {
    "deletable": false,
    "editable": false,
    "nbgrader": {
     "cell_type": "code",
     "checksum": "658f43b3f172cefd8a416f9143c0cc9a",
     "grade": true,
     "grade_id": "cell-f6d99cca56b03a4c",
     "locked": true,
     "points": 2,
     "schema_version": 3,
     "solution": false,
     "task": false
    }
   },
   "outputs": [],
   "source": [
    "assert isinstance(network, mx.gluon.nn.Sequential)\n",
    "assert len(network) == 5\n",
    "assert isinstance(network[0], mx.gluon.nn.Conv2D)\n",
    "assert network[0].act.name.endswith('relu')\n",
    "assert network[0].weight.shape[0] == 32\n",
    "assert isinstance(network[1], mx.gluon.nn.MaxPool2D)\n",
    "assert isinstance(network[2], mx.gluon.nn.Conv2D)\n",
    "assert network[2].act.name.endswith('relu')\n",
    "assert network[2].weight.shape[0] == 16\n",
    "assert isinstance(network[3], mx.gluon.nn.MaxPool2D)\n",
    "assert isinstance(network[4], mx.gluon.nn.Dense)\n",
    "assert network[4].act is None\n",
    "assert network[4].weight.shape[0] == 10"
   ]
  },
  {
   "cell_type": "markdown",
   "metadata": {
    "deletable": false,
    "editable": false,
    "nbgrader": {
     "cell_type": "markdown",
     "checksum": "59680071ae46fddcb37e07b965fc9dbc",
     "grade": false,
     "grade_id": "cell-7aba8aa6bd98797e",
     "locked": true,
     "schema_version": 3,
     "solution": false,
     "task": false
    }
   },
   "source": [
    "Let's initialize the parameters of the network, and show a summary of the network architecture.\n",
    "\n",
    "With 8954 trainable parameters, this network's got 30% fewer parameters than the previous network."
   ]
  },
  {
   "cell_type": "code",
   "execution_count": 35,
   "metadata": {
    "deletable": false,
    "editable": false,
    "nbgrader": {
     "cell_type": "code",
     "checksum": "226a74a762a411b9a6ec985a7b3b4d02",
     "grade": false,
     "grade_id": "cell-5b9ad1023c066bbe",
     "locked": true,
     "schema_version": 3,
     "solution": false,
     "task": false
    }
   },
   "outputs": [
    {
     "name": "stdout",
     "output_type": "stream",
     "text": [
      "--------------------------------------------------------------------------------\n",
      "        Layer (type)                                Output Shape         Param #\n",
      "================================================================================\n",
      "               Input                           (1024, 1, 28, 28)               0\n",
      "        Activation-1         <Symbol sequential7_conv0_relu_fwd>               0\n",
      "        Activation-2                          (1024, 32, 26, 26)               0\n",
      "            Conv2D-3                          (1024, 32, 26, 26)             320\n",
      "         MaxPool2D-4                          (1024, 32, 13, 13)               0\n",
      "        Activation-5         <Symbol sequential7_conv1_relu_fwd>               0\n",
      "        Activation-6                          (1024, 16, 11, 11)               0\n",
      "            Conv2D-7                          (1024, 16, 11, 11)            4624\n",
      "         MaxPool2D-8                            (1024, 16, 5, 5)               0\n",
      "             Dense-9                                  (1024, 10)            4010\n",
      "================================================================================\n",
      "Parameters in forward computation graph, duplicate included\n",
      "   Total params: 8954\n",
      "   Trainable params: 8954\n",
      "   Non-trainable params: 0\n",
      "Shared params in forward computation graph: 0\n",
      "Unique parameters in model: 8954\n",
      "--------------------------------------------------------------------------------\n"
     ]
    }
   ],
   "source": [
    "network.initialize(init=initializer)\n",
    "network.summary(data)"
   ]
  },
  {
   "cell_type": "markdown",
   "metadata": {
    "deletable": false,
    "editable": false,
    "nbgrader": {
     "cell_type": "markdown",
     "checksum": "9c93f40630de025d96f78ca5df6f8b0a",
     "grade": false,
     "grade_id": "cell-3b2f9d639c371864",
     "locked": true,
     "schema_version": 3,
     "solution": false,
     "task": false
    }
   },
   "source": [
    "And finally, let's evaluate the network performance."
   ]
  },
  {
   "cell_type": "code",
   "execution_count": 36,
   "metadata": {
    "deletable": false,
    "editable": false,
    "nbgrader": {
     "cell_type": "code",
     "checksum": "797450f201e5b58137770b5afbcdde27",
     "grade": false,
     "grade_id": "cell-6a0bbef7dab7fc86",
     "locked": true,
     "schema_version": 3,
     "solution": false,
     "task": false
    }
   },
   "outputs": [
    {
     "name": "stderr",
     "output_type": "stream",
     "text": [
      "100%|██████████| 469/469 [02:34<00:00,  4.27it/s]\n",
      "100%|██████████| 469/469 [04:48<00:00,  3.51it/s]  "
     ]
    },
    {
     "name": "stdout",
     "output_type": "stream",
     "text": [
      "('accuracy', 0.8399666666666666)\n"
     ]
    },
    {
     "name": "stderr",
     "output_type": "stream",
     "text": [
      "\n"
     ]
    }
   ],
   "source": [
    "train(network, train_dataloader)\n",
    "metric = calculate_accuracy(network, test_dataloader)\n",
    "print(metric.get())"
   ]
  },
  {
   "cell_type": "markdown",
   "metadata": {
    "deletable": false,
    "editable": false,
    "nbgrader": {
     "cell_type": "markdown",
     "checksum": "daac204b6befa96b9d1ceb3883b7dffb",
     "grade": false,
     "grade_id": "cell-9a3e6f798eaeb49b",
     "locked": true,
     "schema_version": 3,
     "solution": false,
     "task": false
    }
   },
   "source": [
    "We're only training for a single epoch here. You'd expect to get improved accuracy if training for more epochs. "
   ]
  }
 ],
 "metadata": {
  "coursera": {
   "assignment_name": "module_4",
   "assignment_version": 2,
   "course_slug": "aws-computer-vision-gluoncv",
   "graded_item_id": "FoZrl",
   "launcher_item_id": "vcm0m"
  },
  "kernelspec": {
   "display_name": "Python 3",
   "language": "python",
   "name": "python3"
  },
  "language_info": {
   "codemirror_mode": {
    "name": "ipython",
    "version": 3
   },
   "file_extension": ".py",
   "mimetype": "text/x-python",
   "name": "python",
   "nbconvert_exporter": "python",
   "pygments_lexer": "ipython3",
   "version": "3.7.3"
  }
 },
 "nbformat": 4,
 "nbformat_minor": 1
}
